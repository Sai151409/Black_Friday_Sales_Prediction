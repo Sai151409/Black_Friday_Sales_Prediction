{
 "cells": [
  {
   "cell_type": "code",
   "execution_count": 1,
   "id": "b172d862",
   "metadata": {},
   "outputs": [],
   "source": [
    "transfomed_train_file_path = r\"C:\\Users\\Asus\\ML_Projects\\Black_Friday_Sales_Prediction\\black_friday\\artifact\\data_transformation\\2023-02-18_12-03-50\\transformed_data\\transformed_train_dir\\black_friday_train_data.npz\""
   ]
  },
  {
   "cell_type": "code",
   "execution_count": 2,
   "id": "6ab309d6",
   "metadata": {},
   "outputs": [],
   "source": [
    "import numpy as np"
   ]
  },
  {
   "cell_type": "code",
   "execution_count": 3,
   "id": "d666d3c1",
   "metadata": {},
   "outputs": [],
   "source": [
    "with open(transfomed_train_file_path, \"rb\") as file:\n",
    "    k = np.load(file, allow_pickle=True)"
   ]
  },
  {
   "cell_type": "code",
   "execution_count": 4,
   "id": "c15b812d",
   "metadata": {},
   "outputs": [
    {
     "data": {
      "text/plain": [
       "array([[1.0000e+00, 0.0000e+00, 0.0000e+00, ..., 0.0000e+00, 8.0000e+00,\n",
       "        3.8860e+03],\n",
       "       [1.0000e+00, 1.0000e+00, 0.0000e+00, ..., 1.0000e+00, 1.6000e+01,\n",
       "        1.2148e+04],\n",
       "       [1.0000e+00, 0.0000e+00, 0.0000e+00, ..., 0.0000e+00, 8.0000e+00,\n",
       "        8.0540e+03],\n",
       "       ...,\n",
       "       [0.0000e+00, 1.0000e+00, 0.0000e+00, ..., 0.0000e+00, 5.0000e+00,\n",
       "        6.9540e+03],\n",
       "       [0.0000e+00, 1.0000e+00, 0.0000e+00, ..., 0.0000e+00, 8.0000e+00,\n",
       "        6.1510e+03],\n",
       "       [0.0000e+00, 0.0000e+00, 0.0000e+00, ..., 1.0000e+00, 5.0000e+00,\n",
       "        7.1460e+03]])"
      ]
     },
     "execution_count": 4,
     "metadata": {},
     "output_type": "execute_result"
    }
   ],
   "source": [
    "k"
   ]
  },
  {
   "cell_type": "code",
   "execution_count": 5,
   "id": "cedddbc0",
   "metadata": {},
   "outputs": [],
   "source": [
    "input_x = k[:, :-1]\n",
    "output_x = k[:, -1]"
   ]
  },
  {
   "cell_type": "code",
   "execution_count": 6,
   "id": "898a4b94",
   "metadata": {},
   "outputs": [
    {
     "data": {
      "text/plain": [
       "array([[ 1.,  0.,  0., ..., 16.,  0.,  8.],\n",
       "       [ 1.,  1.,  0., ...,  1.,  1., 16.],\n",
       "       [ 1.,  0.,  0., ...,  7.,  0.,  8.],\n",
       "       ...,\n",
       "       [ 0.,  1.,  0., ...,  1.,  0.,  5.],\n",
       "       [ 0.,  1.,  0., ...,  4.,  0.,  8.],\n",
       "       [ 0.,  0.,  0., ...,  2.,  1.,  5.]])"
      ]
     },
     "execution_count": 6,
     "metadata": {},
     "output_type": "execute_result"
    }
   ],
   "source": [
    "input_x"
   ]
  },
  {
   "cell_type": "code",
   "execution_count": 7,
   "id": "821802dd",
   "metadata": {},
   "outputs": [
    {
     "data": {
      "text/plain": [
       "array([ 3886., 12148.,  8054., ...,  6954.,  6151.,  7146.])"
      ]
     },
     "execution_count": 7,
     "metadata": {},
     "output_type": "execute_result"
    }
   ],
   "source": [
    "output_x"
   ]
  },
  {
   "cell_type": "code",
   "execution_count": 8,
   "id": "8149662e",
   "metadata": {},
   "outputs": [],
   "source": [
    "transfomed_test_file_path = r\"C:\\Users\\Asus\\ML_Projects\\Black_Friday_Sales_Prediction\\black_friday\\artifact\\data_transformation\\2023-02-18_12-03-50\\transformed_data\\transformed_test_dir\\black_friday_test_data.npz\""
   ]
  },
  {
   "cell_type": "code",
   "execution_count": 9,
   "id": "9132e3f3",
   "metadata": {},
   "outputs": [],
   "source": [
    "with open(transfomed_test_file_path, \"rb\") as file:\n",
    "    l = np.load(file, allow_pickle=True)"
   ]
  },
  {
   "cell_type": "code",
   "execution_count": 10,
   "id": "78addea2",
   "metadata": {},
   "outputs": [],
   "source": [
    "input_y = l[:, :-1]\n",
    "output_y = l[:, -1]"
   ]
  },
  {
   "cell_type": "markdown",
   "id": "72bf9e14",
   "metadata": {},
   "source": [
    "# Linear Regression"
   ]
  },
  {
   "cell_type": "code",
   "execution_count": 11,
   "id": "3395b059",
   "metadata": {},
   "outputs": [],
   "source": [
    "from sklearn.linear_model import LinearRegression\n",
    "\n",
    "model = LinearRegression()"
   ]
  },
  {
   "cell_type": "code",
   "execution_count": 12,
   "id": "30c72e32",
   "metadata": {},
   "outputs": [
    {
     "data": {
      "text/plain": [
       "LinearRegression()"
      ]
     },
     "execution_count": 12,
     "metadata": {},
     "output_type": "execute_result"
    }
   ],
   "source": [
    "model.fit(input_x, output_x)"
   ]
  },
  {
   "cell_type": "code",
   "execution_count": 13,
   "id": "3145c87d",
   "metadata": {},
   "outputs": [],
   "source": [
    "output_pred_x = model.predict(input_x)"
   ]
  },
  {
   "cell_type": "code",
   "execution_count": 14,
   "id": "01a384df",
   "metadata": {},
   "outputs": [],
   "source": [
    "from sklearn.metrics import r2_score"
   ]
  },
  {
   "cell_type": "code",
   "execution_count": 15,
   "id": "e5a60c10",
   "metadata": {},
   "outputs": [
    {
     "data": {
      "text/plain": [
       "0.13208548535515485"
      ]
     },
     "execution_count": 15,
     "metadata": {},
     "output_type": "execute_result"
    }
   ],
   "source": [
    "r2_score(output_x, output_pred_x)"
   ]
  },
  {
   "cell_type": "code",
   "execution_count": 16,
   "id": "0a8ce57b",
   "metadata": {},
   "outputs": [],
   "source": [
    "output_pred_y = model.predict(input_y)"
   ]
  },
  {
   "cell_type": "code",
   "execution_count": 17,
   "id": "c7aecc74",
   "metadata": {},
   "outputs": [
    {
     "data": {
      "text/plain": [
       "0.12927310647633417"
      ]
     },
     "execution_count": 17,
     "metadata": {},
     "output_type": "execute_result"
    }
   ],
   "source": [
    "r2_score(output_y, output_pred_y)"
   ]
  },
  {
   "cell_type": "markdown",
   "id": "be009652",
   "metadata": {},
   "source": [
    "# Ridge Regression"
   ]
  },
  {
   "cell_type": "code",
   "execution_count": 18,
   "id": "24c08fd2",
   "metadata": {},
   "outputs": [],
   "source": [
    "from sklearn.linear_model import Ridge\n",
    "from sklearn.model_selection import GridSearchCV"
   ]
  },
  {
   "cell_type": "code",
   "execution_count": 19,
   "id": "425c8d00",
   "metadata": {},
   "outputs": [],
   "source": [
    "ridge = Ridge()\n",
    "model = GridSearchCV(ridge, param_grid={'alpha' : [0.1, 0.5, 0.8]}, cv=5, verbose=True)"
   ]
  },
  {
   "cell_type": "code",
   "execution_count": 20,
   "id": "730476e9",
   "metadata": {},
   "outputs": [
    {
     "name": "stdout",
     "output_type": "stream",
     "text": [
      "Fitting 5 folds for each of 3 candidates, totalling 15 fits\n"
     ]
    },
    {
     "data": {
      "text/plain": [
       "GridSearchCV(cv=5, estimator=Ridge(), param_grid={'alpha': [0.1, 0.5, 0.8]},\n",
       "             verbose=True)"
      ]
     },
     "execution_count": 20,
     "metadata": {},
     "output_type": "execute_result"
    }
   ],
   "source": [
    "model.fit(input_x, output_x)"
   ]
  },
  {
   "cell_type": "code",
   "execution_count": 21,
   "id": "23ed368f",
   "metadata": {},
   "outputs": [],
   "source": [
    "output_pred_x = model.predict(input_x)"
   ]
  },
  {
   "cell_type": "code",
   "execution_count": 22,
   "id": "837d147b",
   "metadata": {},
   "outputs": [
    {
     "data": {
      "text/plain": [
       "0.13208548535421039"
      ]
     },
     "execution_count": 22,
     "metadata": {},
     "output_type": "execute_result"
    }
   ],
   "source": [
    "r2_score(output_x, output_pred_x)"
   ]
  },
  {
   "cell_type": "code",
   "execution_count": 23,
   "id": "bad4eaf0",
   "metadata": {},
   "outputs": [],
   "source": [
    "output_pred_y = model.predict(input_y)"
   ]
  },
  {
   "cell_type": "code",
   "execution_count": 24,
   "id": "2b9d9e16",
   "metadata": {},
   "outputs": [
    {
     "data": {
      "text/plain": [
       "0.12927310374449397"
      ]
     },
     "execution_count": 24,
     "metadata": {},
     "output_type": "execute_result"
    }
   ],
   "source": [
    "r2_score(output_y, output_pred_y)"
   ]
  },
  {
   "cell_type": "code",
   "execution_count": 25,
   "id": "13dde525",
   "metadata": {},
   "outputs": [
    {
     "data": {
      "text/plain": [
       "{'alpha': 0.8}"
      ]
     },
     "execution_count": 25,
     "metadata": {},
     "output_type": "execute_result"
    }
   ],
   "source": [
    "model.best_params_"
   ]
  },
  {
   "cell_type": "markdown",
   "id": "942af945",
   "metadata": {},
   "source": [
    "# Lasso"
   ]
  },
  {
   "cell_type": "code",
   "execution_count": 26,
   "id": "b0d97b11",
   "metadata": {},
   "outputs": [],
   "source": [
    "from sklearn.linear_model import Lasso\n",
    "\n",
    "lasso = Lasso()\n",
    "\n",
    "model = GridSearchCV(lasso, param_grid={'alpha' : [0.1, 0.5, 0.8]}, cv=5, verbose=True)"
   ]
  },
  {
   "cell_type": "code",
   "execution_count": 27,
   "id": "956d4521",
   "metadata": {},
   "outputs": [
    {
     "name": "stdout",
     "output_type": "stream",
     "text": [
      "Fitting 5 folds for each of 3 candidates, totalling 15 fits\n"
     ]
    },
    {
     "data": {
      "text/plain": [
       "GridSearchCV(cv=5, estimator=Lasso(), param_grid={'alpha': [0.1, 0.5, 0.8]},\n",
       "             verbose=True)"
      ]
     },
     "execution_count": 27,
     "metadata": {},
     "output_type": "execute_result"
    }
   ],
   "source": [
    "model.fit(input_x, output_x)"
   ]
  },
  {
   "cell_type": "code",
   "execution_count": 28,
   "id": "2a0b9b0b",
   "metadata": {},
   "outputs": [],
   "source": [
    "output_pred_x = model.predict(input_x)"
   ]
  },
  {
   "cell_type": "code",
   "execution_count": 29,
   "id": "733328c9",
   "metadata": {},
   "outputs": [
    {
     "data": {
      "text/plain": [
       "0.1320854725462305"
      ]
     },
     "execution_count": 29,
     "metadata": {},
     "output_type": "execute_result"
    }
   ],
   "source": [
    "r2_score(output_x, output_pred_x)"
   ]
  },
  {
   "cell_type": "code",
   "execution_count": 30,
   "id": "698ac322",
   "metadata": {},
   "outputs": [],
   "source": [
    "output_pred_y = model.predict(input_y)"
   ]
  },
  {
   "cell_type": "code",
   "execution_count": 31,
   "id": "cf4d1794",
   "metadata": {},
   "outputs": [
    {
     "data": {
      "text/plain": [
       "0.12927280190272505"
      ]
     },
     "execution_count": 31,
     "metadata": {},
     "output_type": "execute_result"
    }
   ],
   "source": [
    "r2_score(output_y, output_pred_y)"
   ]
  },
  {
   "cell_type": "code",
   "execution_count": 32,
   "id": "787c927a",
   "metadata": {},
   "outputs": [
    {
     "data": {
      "text/plain": [
       "{'alpha': 0.1}"
      ]
     },
     "execution_count": 32,
     "metadata": {},
     "output_type": "execute_result"
    }
   ],
   "source": [
    "model.best_params_"
   ]
  },
  {
   "cell_type": "markdown",
   "id": "d2c367cd",
   "metadata": {},
   "source": [
    "# Elastic"
   ]
  },
  {
   "cell_type": "code",
   "execution_count": 33,
   "id": "d4196935",
   "metadata": {},
   "outputs": [],
   "source": [
    "from sklearn.linear_model import ElasticNet\n",
    "\n",
    "elastic = ElasticNet()\n",
    "\n",
    "model = GridSearchCV(elastic, param_grid={'alpha' : [0.1, 0.5, 0.8]}, cv=5, verbose=True)"
   ]
  },
  {
   "cell_type": "code",
   "execution_count": 34,
   "id": "f6a92112",
   "metadata": {},
   "outputs": [
    {
     "name": "stdout",
     "output_type": "stream",
     "text": [
      "Fitting 5 folds for each of 3 candidates, totalling 15 fits\n"
     ]
    },
    {
     "data": {
      "text/plain": [
       "GridSearchCV(cv=5, estimator=ElasticNet(),\n",
       "             param_grid={'alpha': [0.1, 0.5, 0.8]}, verbose=True)"
      ]
     },
     "execution_count": 34,
     "metadata": {},
     "output_type": "execute_result"
    }
   ],
   "source": [
    "model.fit(input_x, output_x)"
   ]
  },
  {
   "cell_type": "code",
   "execution_count": 35,
   "id": "cc8917d7",
   "metadata": {},
   "outputs": [],
   "source": [
    "output_pred_x = model.predict(input_x)"
   ]
  },
  {
   "cell_type": "code",
   "execution_count": 36,
   "id": "72b4dfba",
   "metadata": {},
   "outputs": [
    {
     "data": {
      "text/plain": [
       "0.1318110626081438"
      ]
     },
     "execution_count": 36,
     "metadata": {},
     "output_type": "execute_result"
    }
   ],
   "source": [
    "r2_score(output_x, output_pred_x)"
   ]
  },
  {
   "cell_type": "code",
   "execution_count": 37,
   "id": "508732d7",
   "metadata": {},
   "outputs": [],
   "source": [
    "output_pred_y = model.predict(input_y)"
   ]
  },
  {
   "cell_type": "code",
   "execution_count": 38,
   "id": "d4d783fc",
   "metadata": {},
   "outputs": [
    {
     "data": {
      "text/plain": [
       "0.12895329872862082"
      ]
     },
     "execution_count": 38,
     "metadata": {},
     "output_type": "execute_result"
    }
   ],
   "source": [
    "r2_score(output_y, output_pred_y)"
   ]
  },
  {
   "cell_type": "code",
   "execution_count": 39,
   "id": "63467c3f",
   "metadata": {},
   "outputs": [
    {
     "data": {
      "text/plain": [
       "{'alpha': 0.1}"
      ]
     },
     "execution_count": 39,
     "metadata": {},
     "output_type": "execute_result"
    }
   ],
   "source": [
    "model.best_params_"
   ]
  },
  {
   "cell_type": "markdown",
   "id": "3bacdae6",
   "metadata": {},
   "source": [
    "# Decison Tree"
   ]
  },
  {
   "cell_type": "code",
   "execution_count": 40,
   "id": "05129828",
   "metadata": {},
   "outputs": [],
   "source": [
    "from sklearn.tree import DecisionTreeRegressor\n",
    "\n",
    "decision = DecisionTreeRegressor()\n",
    "\n",
    "model = GridSearchCV(decision, param_grid={'max_depth':[9,11,13,15,17],\n",
    "          'min_samples_leaf':[7,9,11,13],\n",
    "          'min_samples_split':[8,10,12,14]}, cv = 5, verbose=True)"
   ]
  },
  {
   "cell_type": "code",
   "execution_count": 41,
   "id": "45066965",
   "metadata": {},
   "outputs": [
    {
     "name": "stdout",
     "output_type": "stream",
     "text": [
      "Fitting 5 folds for each of 80 candidates, totalling 400 fits\n"
     ]
    },
    {
     "data": {
      "text/plain": [
       "GridSearchCV(cv=5, estimator=DecisionTreeRegressor(),\n",
       "             param_grid={'max_depth': [9, 11, 13, 15, 17],\n",
       "                         'min_samples_leaf': [7, 9, 11, 13],\n",
       "                         'min_samples_split': [8, 10, 12, 14]},\n",
       "             verbose=True)"
      ]
     },
     "execution_count": 41,
     "metadata": {},
     "output_type": "execute_result"
    }
   ],
   "source": [
    "model.fit(input_x, output_x)"
   ]
  },
  {
   "cell_type": "code",
   "execution_count": 42,
   "id": "5585bd47",
   "metadata": {},
   "outputs": [],
   "source": [
    "output_pred_x = model.predict(input_x)"
   ]
  },
  {
   "cell_type": "code",
   "execution_count": 43,
   "id": "46d933da",
   "metadata": {},
   "outputs": [
    {
     "data": {
      "text/plain": [
       "0.6627249504296288"
      ]
     },
     "execution_count": 43,
     "metadata": {},
     "output_type": "execute_result"
    }
   ],
   "source": [
    "r2_score(output_x, output_pred_x)"
   ]
  },
  {
   "cell_type": "code",
   "execution_count": 44,
   "id": "f215b5d0",
   "metadata": {},
   "outputs": [],
   "source": [
    "output_pred_y = model.predict(input_y)"
   ]
  },
  {
   "cell_type": "code",
   "execution_count": 45,
   "id": "d925c2da",
   "metadata": {},
   "outputs": [
    {
     "data": {
      "text/plain": [
       "0.6503577935583364"
      ]
     },
     "execution_count": 45,
     "metadata": {},
     "output_type": "execute_result"
    }
   ],
   "source": [
    "r2_score(output_y, output_pred_y)"
   ]
  },
  {
   "cell_type": "code",
   "execution_count": 46,
   "id": "e8947ae9",
   "metadata": {},
   "outputs": [
    {
     "data": {
      "text/plain": [
       "DecisionTreeRegressor(max_depth=11, min_samples_leaf=13, min_samples_split=8)"
      ]
     },
     "execution_count": 46,
     "metadata": {},
     "output_type": "execute_result"
    }
   ],
   "source": [
    "model.best_estimator_"
   ]
  },
  {
   "cell_type": "code",
   "execution_count": 47,
   "id": "f881ecc4",
   "metadata": {},
   "outputs": [
    {
     "data": {
      "text/plain": [
       "DecisionTreeRegressor(max_depth=11, min_samples_leaf=13, min_samples_split=8)"
      ]
     },
     "execution_count": 47,
     "metadata": {},
     "output_type": "execute_result"
    }
   ],
   "source": [
    "model.best_estimator_"
   ]
  },
  {
   "cell_type": "code",
   "execution_count": 65,
   "id": "34847b24",
   "metadata": {},
   "outputs": [
    {
     "name": "stdout",
     "output_type": "stream",
     "text": [
      "Fitting 5 folds for each of 27 candidates, totalling 135 fits\n",
      "[CV] END .max_depth=2, min_samples_split=2, n_estimators=100; total time=  13.9s\n",
      "[CV] END .max_depth=2, min_samples_split=2, n_estimators=100; total time=  13.8s\n",
      "[CV] END .max_depth=2, min_samples_split=2, n_estimators=100; total time=  14.5s\n",
      "[CV] END .max_depth=2, min_samples_split=2, n_estimators=100; total time=  15.1s\n",
      "[CV] END .max_depth=2, min_samples_split=2, n_estimators=100; total time=  15.6s\n",
      "[CV] END .max_depth=2, min_samples_split=2, n_estimators=110; total time=  15.7s\n",
      "[CV] END .max_depth=2, min_samples_split=2, n_estimators=110; total time=  16.8s\n",
      "[CV] END .max_depth=2, min_samples_split=2, n_estimators=110; total time=  15.7s\n",
      "[CV] END .max_depth=2, min_samples_split=2, n_estimators=110; total time=  16.2s\n",
      "[CV] END .max_depth=2, min_samples_split=2, n_estimators=110; total time=  16.6s\n",
      "[CV] END .max_depth=2, min_samples_split=2, n_estimators=120; total time=  16.4s\n",
      "[CV] END .max_depth=2, min_samples_split=2, n_estimators=120; total time=  14.2s\n",
      "[CV] END .max_depth=2, min_samples_split=2, n_estimators=120; total time=  14.0s\n",
      "[CV] END .max_depth=2, min_samples_split=2, n_estimators=120; total time=  14.4s\n",
      "[CV] END .max_depth=2, min_samples_split=2, n_estimators=120; total time=  14.7s\n",
      "[CV] END .max_depth=2, min_samples_split=4, n_estimators=100; total time=  13.8s\n",
      "[CV] END .max_depth=2, min_samples_split=4, n_estimators=100; total time=  15.1s\n",
      "[CV] END .max_depth=2, min_samples_split=4, n_estimators=100; total time=  14.7s\n",
      "[CV] END .max_depth=2, min_samples_split=4, n_estimators=100; total time=  14.2s\n",
      "[CV] END .max_depth=2, min_samples_split=4, n_estimators=100; total time=  13.0s\n",
      "[CV] END .max_depth=2, min_samples_split=4, n_estimators=110; total time=  13.3s\n",
      "[CV] END .max_depth=2, min_samples_split=4, n_estimators=110; total time=  14.3s\n",
      "[CV] END .max_depth=2, min_samples_split=4, n_estimators=110; total time=  15.0s\n",
      "[CV] END .max_depth=2, min_samples_split=4, n_estimators=110; total time=  15.7s\n",
      "[CV] END .max_depth=2, min_samples_split=4, n_estimators=110; total time=  14.1s\n",
      "[CV] END .max_depth=2, min_samples_split=4, n_estimators=120; total time=  14.0s\n",
      "[CV] END .max_depth=2, min_samples_split=4, n_estimators=120; total time=  14.0s\n",
      "[CV] END .max_depth=2, min_samples_split=4, n_estimators=120; total time=  14.4s\n",
      "[CV] END .max_depth=2, min_samples_split=4, n_estimators=120; total time=  14.1s\n",
      "[CV] END .max_depth=2, min_samples_split=4, n_estimators=120; total time=  17.1s\n",
      "[CV] END .max_depth=2, min_samples_split=6, n_estimators=100; total time=  18.4s\n",
      "[CV] END .max_depth=2, min_samples_split=6, n_estimators=100; total time=  18.1s\n",
      "[CV] END .max_depth=2, min_samples_split=6, n_estimators=100; total time=  17.7s\n",
      "[CV] END .max_depth=2, min_samples_split=6, n_estimators=100; total time=  17.1s\n",
      "[CV] END .max_depth=2, min_samples_split=6, n_estimators=100; total time=  16.5s\n",
      "[CV] END .max_depth=2, min_samples_split=6, n_estimators=110; total time=  20.6s\n",
      "[CV] END .max_depth=2, min_samples_split=6, n_estimators=110; total time=  19.8s\n",
      "[CV] END .max_depth=2, min_samples_split=6, n_estimators=110; total time=  21.9s\n",
      "[CV] END .max_depth=2, min_samples_split=6, n_estimators=110; total time=  19.8s\n",
      "[CV] END .max_depth=2, min_samples_split=6, n_estimators=110; total time=  18.3s\n",
      "[CV] END .max_depth=2, min_samples_split=6, n_estimators=120; total time=  18.9s\n",
      "[CV] END .max_depth=2, min_samples_split=6, n_estimators=120; total time=  18.1s\n",
      "[CV] END .max_depth=2, min_samples_split=6, n_estimators=120; total time=  18.0s\n",
      "[CV] END .max_depth=2, min_samples_split=6, n_estimators=120; total time=  18.4s\n",
      "[CV] END .max_depth=2, min_samples_split=6, n_estimators=120; total time=  18.7s\n",
      "[CV] END .max_depth=4, min_samples_split=2, n_estimators=100; total time=  27.0s\n",
      "[CV] END .max_depth=4, min_samples_split=2, n_estimators=100; total time=  27.7s\n",
      "[CV] END .max_depth=4, min_samples_split=2, n_estimators=100; total time=  29.1s\n",
      "[CV] END .max_depth=4, min_samples_split=2, n_estimators=100; total time=  31.3s\n",
      "[CV] END .max_depth=4, min_samples_split=2, n_estimators=100; total time=  26.2s\n",
      "[CV] END .max_depth=4, min_samples_split=2, n_estimators=110; total time=  30.1s\n",
      "[CV] END .max_depth=4, min_samples_split=2, n_estimators=110; total time=  28.1s\n",
      "[CV] END .max_depth=4, min_samples_split=2, n_estimators=110; total time=  29.0s\n",
      "[CV] END .max_depth=4, min_samples_split=2, n_estimators=110; total time=  26.7s\n",
      "[CV] END .max_depth=4, min_samples_split=2, n_estimators=110; total time=  23.7s\n",
      "[CV] END .max_depth=4, min_samples_split=2, n_estimators=120; total time=  25.2s\n",
      "[CV] END .max_depth=4, min_samples_split=2, n_estimators=120; total time=  24.2s\n",
      "[CV] END .max_depth=4, min_samples_split=2, n_estimators=120; total time=  29.2s\n",
      "[CV] END .max_depth=4, min_samples_split=2, n_estimators=120; total time=  26.8s\n",
      "[CV] END .max_depth=4, min_samples_split=2, n_estimators=120; total time=  24.0s\n",
      "[CV] END .max_depth=4, min_samples_split=4, n_estimators=100; total time=  20.2s\n",
      "[CV] END .max_depth=4, min_samples_split=4, n_estimators=100; total time=  20.2s\n",
      "[CV] END .max_depth=4, min_samples_split=4, n_estimators=100; total time=  20.1s\n",
      "[CV] END .max_depth=4, min_samples_split=4, n_estimators=100; total time=  20.3s\n",
      "[CV] END .max_depth=4, min_samples_split=4, n_estimators=100; total time=  22.5s\n",
      "[CV] END .max_depth=4, min_samples_split=4, n_estimators=110; total time=  27.6s\n",
      "[CV] END .max_depth=4, min_samples_split=4, n_estimators=110; total time=  27.7s\n",
      "[CV] END .max_depth=4, min_samples_split=4, n_estimators=110; total time=  27.7s\n",
      "[CV] END .max_depth=4, min_samples_split=4, n_estimators=110; total time=  28.7s\n",
      "[CV] END .max_depth=4, min_samples_split=4, n_estimators=110; total time=  29.3s\n",
      "[CV] END .max_depth=4, min_samples_split=4, n_estimators=120; total time=  32.4s\n",
      "[CV] END .max_depth=4, min_samples_split=4, n_estimators=120; total time=  29.0s\n",
      "[CV] END .max_depth=4, min_samples_split=4, n_estimators=120; total time=  31.3s\n",
      "[CV] END .max_depth=4, min_samples_split=4, n_estimators=120; total time=  31.4s\n",
      "[CV] END .max_depth=4, min_samples_split=4, n_estimators=120; total time=  30.9s\n",
      "[CV] END .max_depth=4, min_samples_split=6, n_estimators=100; total time=  24.5s\n",
      "[CV] END .max_depth=4, min_samples_split=6, n_estimators=100; total time=  25.8s\n",
      "[CV] END .max_depth=4, min_samples_split=6, n_estimators=100; total time=  23.3s\n",
      "[CV] END .max_depth=4, min_samples_split=6, n_estimators=100; total time=  23.4s\n",
      "[CV] END .max_depth=4, min_samples_split=6, n_estimators=100; total time=  25.3s\n",
      "[CV] END .max_depth=4, min_samples_split=6, n_estimators=110; total time=  23.0s\n",
      "[CV] END .max_depth=4, min_samples_split=6, n_estimators=110; total time=  22.3s\n",
      "[CV] END .max_depth=4, min_samples_split=6, n_estimators=110; total time=  22.3s\n",
      "[CV] END .max_depth=4, min_samples_split=6, n_estimators=110; total time=  24.3s\n",
      "[CV] END .max_depth=4, min_samples_split=6, n_estimators=110; total time=  30.7s\n",
      "[CV] END .max_depth=4, min_samples_split=6, n_estimators=120; total time=  24.0s\n",
      "[CV] END .max_depth=4, min_samples_split=6, n_estimators=120; total time=  23.6s\n",
      "[CV] END .max_depth=4, min_samples_split=6, n_estimators=120; total time=  25.9s\n",
      "[CV] END .max_depth=4, min_samples_split=6, n_estimators=120; total time=  25.3s\n",
      "[CV] END .max_depth=4, min_samples_split=6, n_estimators=120; total time=  23.8s\n",
      "[CV] END .max_depth=8, min_samples_split=2, n_estimators=100; total time=  35.4s\n",
      "[CV] END .max_depth=8, min_samples_split=2, n_estimators=100; total time=  35.7s\n",
      "[CV] END .max_depth=8, min_samples_split=2, n_estimators=100; total time=  36.4s\n",
      "[CV] END .max_depth=8, min_samples_split=2, n_estimators=100; total time=  32.9s\n",
      "[CV] END .max_depth=8, min_samples_split=2, n_estimators=100; total time=  38.5s\n",
      "[CV] END .max_depth=8, min_samples_split=2, n_estimators=110; total time=  47.8s\n",
      "[CV] END .max_depth=8, min_samples_split=2, n_estimators=110; total time=  41.2s\n",
      "[CV] END .max_depth=8, min_samples_split=2, n_estimators=110; total time=  45.4s\n",
      "[CV] END .max_depth=8, min_samples_split=2, n_estimators=110; total time=  47.2s\n",
      "[CV] END .max_depth=8, min_samples_split=2, n_estimators=110; total time=  43.3s\n",
      "[CV] END .max_depth=8, min_samples_split=2, n_estimators=120; total time=  55.3s\n"
     ]
    },
    {
     "name": "stdout",
     "output_type": "stream",
     "text": [
      "[CV] END .max_depth=8, min_samples_split=2, n_estimators=120; total time=  50.1s\n",
      "[CV] END .max_depth=8, min_samples_split=2, n_estimators=120; total time=  50.8s\n",
      "[CV] END .max_depth=8, min_samples_split=2, n_estimators=120; total time=  43.2s\n",
      "[CV] END .max_depth=8, min_samples_split=2, n_estimators=120; total time=  39.7s\n",
      "[CV] END .max_depth=8, min_samples_split=4, n_estimators=100; total time=  33.8s\n",
      "[CV] END .max_depth=8, min_samples_split=4, n_estimators=100; total time=  36.9s\n",
      "[CV] END .max_depth=8, min_samples_split=4, n_estimators=100; total time=  32.9s\n",
      "[CV] END .max_depth=8, min_samples_split=4, n_estimators=100; total time=  33.3s\n",
      "[CV] END .max_depth=8, min_samples_split=4, n_estimators=100; total time=  34.0s\n",
      "[CV] END .max_depth=8, min_samples_split=4, n_estimators=110; total time=  38.7s\n",
      "[CV] END .max_depth=8, min_samples_split=4, n_estimators=110; total time=  44.1s\n",
      "[CV] END .max_depth=8, min_samples_split=4, n_estimators=110; total time=  37.4s\n",
      "[CV] END .max_depth=8, min_samples_split=4, n_estimators=110; total time=  37.6s\n",
      "[CV] END .max_depth=8, min_samples_split=4, n_estimators=110; total time=  38.3s\n",
      "[CV] END .max_depth=8, min_samples_split=4, n_estimators=120; total time=  39.6s\n",
      "[CV] END .max_depth=8, min_samples_split=4, n_estimators=120; total time=  42.0s\n",
      "[CV] END .max_depth=8, min_samples_split=4, n_estimators=120; total time=  39.5s\n",
      "[CV] END .max_depth=8, min_samples_split=4, n_estimators=120; total time=  40.2s\n",
      "[CV] END .max_depth=8, min_samples_split=4, n_estimators=120; total time=  40.1s\n",
      "[CV] END .max_depth=8, min_samples_split=6, n_estimators=100; total time=  33.8s\n",
      "[CV] END .max_depth=8, min_samples_split=6, n_estimators=100; total time=  35.2s\n",
      "[CV] END .max_depth=8, min_samples_split=6, n_estimators=100; total time=  37.7s\n",
      "[CV] END .max_depth=8, min_samples_split=6, n_estimators=100; total time=  34.5s\n",
      "[CV] END .max_depth=8, min_samples_split=6, n_estimators=100; total time=  33.8s\n",
      "[CV] END .max_depth=8, min_samples_split=6, n_estimators=110; total time=  35.0s\n",
      "[CV] END .max_depth=8, min_samples_split=6, n_estimators=110; total time=  34.9s\n",
      "[CV] END .max_depth=8, min_samples_split=6, n_estimators=110; total time=  35.4s\n",
      "[CV] END .max_depth=8, min_samples_split=6, n_estimators=110; total time=  36.0s\n",
      "[CV] END .max_depth=8, min_samples_split=6, n_estimators=110; total time=  35.5s\n",
      "[CV] END .max_depth=8, min_samples_split=6, n_estimators=120; total time=  40.0s\n",
      "[CV] END .max_depth=8, min_samples_split=6, n_estimators=120; total time=  44.4s\n",
      "[CV] END .max_depth=8, min_samples_split=6, n_estimators=120; total time=  42.6s\n",
      "[CV] END .max_depth=8, min_samples_split=6, n_estimators=120; total time=  42.1s\n",
      "[CV] END .max_depth=8, min_samples_split=6, n_estimators=120; total time=  45.9s\n"
     ]
    },
    {
     "data": {
      "text/plain": [
       "GridSearchCV(estimator=RandomForestRegressor(),\n",
       "             param_grid={'max_depth': [2, 4, 8], 'min_samples_split': [2, 4, 6],\n",
       "                         'n_estimators': [100, 110, 120]},\n",
       "             verbose=2)"
      ]
     },
     "execution_count": 65,
     "metadata": {},
     "output_type": "execute_result"
    }
   ],
   "source": [
    "from sklearn.ensemble import RandomForestRegressor\n",
    "from sklearn.model_selection import GridSearchCV\n",
    "\n",
    "rf = RandomForestRegressor()\n",
    "\n",
    "model = GridSearchCV(rf,\n",
    "                    param_grid={\n",
    "                        'n_estimators' : [100, 110, 120],\n",
    "                        'max_depth' : [2,4,8],\n",
    "                        'min_samples_split' : [2,4,6]}, verbose=2)\n",
    "model.fit(input_x, output_x)"
   ]
  },
  {
   "cell_type": "code",
   "execution_count": 66,
   "id": "5540b94d",
   "metadata": {},
   "outputs": [],
   "source": [
    "output_x_pred = model.predict(input_x)"
   ]
  },
  {
   "cell_type": "code",
   "execution_count": 67,
   "id": "c8a2d693",
   "metadata": {},
   "outputs": [
    {
     "data": {
      "text/plain": [
       "0.6554861910300241"
      ]
     },
     "execution_count": 67,
     "metadata": {},
     "output_type": "execute_result"
    }
   ],
   "source": [
    "from sklearn.metrics import r2_score\n",
    "r2_score(output_x, output_x_pred)"
   ]
  },
  {
   "cell_type": "code",
   "execution_count": 68,
   "id": "f99be31d",
   "metadata": {},
   "outputs": [],
   "source": [
    "output_y_pred = model.predict(input_y)"
   ]
  },
  {
   "cell_type": "code",
   "execution_count": 69,
   "id": "a271d80e",
   "metadata": {},
   "outputs": [
    {
     "data": {
      "text/plain": [
       "0.6483787660647703"
      ]
     },
     "execution_count": 69,
     "metadata": {},
     "output_type": "execute_result"
    }
   ],
   "source": [
    "r2_score(output_y, output_y_pred)"
   ]
  },
  {
   "cell_type": "code",
   "execution_count": 70,
   "id": "502be0d2",
   "metadata": {},
   "outputs": [
    {
     "data": {
      "text/plain": [
       "RandomForestRegressor(max_depth=8, min_samples_split=4)"
      ]
     },
     "execution_count": 70,
     "metadata": {},
     "output_type": "execute_result"
    }
   ],
   "source": [
    "model.best_estimator_"
   ]
  },
  {
   "cell_type": "code",
   "execution_count": 71,
   "id": "ab5fe013",
   "metadata": {},
   "outputs": [],
   "source": [
    "from sklearn.metrics import mean_squared_error"
   ]
  },
  {
   "cell_type": "code",
   "execution_count": 72,
   "id": "743912b2",
   "metadata": {},
   "outputs": [
    {
     "data": {
      "text/plain": [
       "8696731.536157524"
      ]
     },
     "execution_count": 72,
     "metadata": {},
     "output_type": "execute_result"
    }
   ],
   "source": [
    "mean_squared_error(output_x,  output_x_pred)"
   ]
  },
  {
   "cell_type": "code",
   "execution_count": 73,
   "id": "26a02e95",
   "metadata": {},
   "outputs": [
    {
     "data": {
      "text/plain": [
       "0.6538912325331239"
      ]
     },
     "execution_count": 73,
     "metadata": {},
     "output_type": "execute_result"
    }
   ],
   "source": [
    "model.best_score_"
   ]
  },
  {
   "cell_type": "code",
   "execution_count": 74,
   "id": "b6ed633c",
   "metadata": {},
   "outputs": [
    {
     "data": {
      "text/plain": [
       "{'max_depth': 8, 'min_samples_split': 4, 'n_estimators': 100}"
      ]
     },
     "execution_count": 74,
     "metadata": {},
     "output_type": "execute_result"
    }
   ],
   "source": [
    "model.best_params_"
   ]
  },
  {
   "cell_type": "code",
   "execution_count": 25,
   "id": "1d0efff4",
   "metadata": {},
   "outputs": [],
   "source": [
    "from xgboost import XGBRegressor\n",
    "\n",
    "regressor = XGBRegressor()"
   ]
  },
  {
   "cell_type": "code",
   "execution_count": 51,
   "id": "488f8a55",
   "metadata": {},
   "outputs": [],
   "source": [
    "from sklearn.model_selection import GridSearchCV\n",
    "params={\n",
    "    \"learning_rate\"    : [0.2, 0.25, 0.35, 0.45] ,\n",
    "    \"max_depth\"        : [ 8, 10, 12],\n",
    "    \"n_estimators\" : [100, 110, 120]\n",
    "}"
   ]
  },
  {
   "cell_type": "code",
   "execution_count": 52,
   "id": "15672aa9",
   "metadata": {},
   "outputs": [],
   "source": [
    "model = GridSearchCV(regressor, param_grid=params, verbose=2, cv=5)"
   ]
  },
  {
   "cell_type": "code",
   "execution_count": 53,
   "id": "6f222cf5",
   "metadata": {},
   "outputs": [
    {
     "name": "stdout",
     "output_type": "stream",
     "text": [
      "Fitting 5 folds for each of 36 candidates, totalling 180 fits\n",
      "[CV] END ...learning_rate=0.2, max_depth=8, n_estimators=100; total time=   7.2s\n",
      "[CV] END ...learning_rate=0.2, max_depth=8, n_estimators=100; total time=   7.2s\n",
      "[CV] END ...learning_rate=0.2, max_depth=8, n_estimators=100; total time=   7.6s\n",
      "[CV] END ...learning_rate=0.2, max_depth=8, n_estimators=100; total time=   7.1s\n",
      "[CV] END ...learning_rate=0.2, max_depth=8, n_estimators=100; total time=   7.3s\n",
      "[CV] END ...learning_rate=0.2, max_depth=8, n_estimators=110; total time=   8.5s\n",
      "[CV] END ...learning_rate=0.2, max_depth=8, n_estimators=110; total time=   8.3s\n",
      "[CV] END ...learning_rate=0.2, max_depth=8, n_estimators=110; total time=   8.5s\n",
      "[CV] END ...learning_rate=0.2, max_depth=8, n_estimators=110; total time=   8.7s\n",
      "[CV] END ...learning_rate=0.2, max_depth=8, n_estimators=110; total time=   8.4s\n",
      "[CV] END ...learning_rate=0.2, max_depth=8, n_estimators=120; total time=   9.1s\n",
      "[CV] END ...learning_rate=0.2, max_depth=8, n_estimators=120; total time=   9.1s\n",
      "[CV] END ...learning_rate=0.2, max_depth=8, n_estimators=120; total time=   9.1s\n",
      "[CV] END ...learning_rate=0.2, max_depth=8, n_estimators=120; total time=   9.4s\n",
      "[CV] END ...learning_rate=0.2, max_depth=8, n_estimators=120; total time=  10.6s\n",
      "[CV] END ..learning_rate=0.2, max_depth=10, n_estimators=100; total time=  11.9s\n",
      "[CV] END ..learning_rate=0.2, max_depth=10, n_estimators=100; total time=  10.5s\n",
      "[CV] END ..learning_rate=0.2, max_depth=10, n_estimators=100; total time=  10.7s\n",
      "[CV] END ..learning_rate=0.2, max_depth=10, n_estimators=100; total time=  10.6s\n",
      "[CV] END ..learning_rate=0.2, max_depth=10, n_estimators=100; total time=  14.2s\n",
      "[CV] END ..learning_rate=0.2, max_depth=10, n_estimators=110; total time=  24.1s\n",
      "[CV] END ..learning_rate=0.2, max_depth=10, n_estimators=110; total time=  30.8s\n",
      "[CV] END ..learning_rate=0.2, max_depth=10, n_estimators=110; total time=  24.3s\n",
      "[CV] END ..learning_rate=0.2, max_depth=10, n_estimators=110; total time=  16.2s\n",
      "[CV] END ..learning_rate=0.2, max_depth=10, n_estimators=110; total time=  13.8s\n",
      "[CV] END ..learning_rate=0.2, max_depth=10, n_estimators=120; total time=  16.3s\n",
      "[CV] END ..learning_rate=0.2, max_depth=10, n_estimators=120; total time=  16.7s\n",
      "[CV] END ..learning_rate=0.2, max_depth=10, n_estimators=120; total time=  15.3s\n",
      "[CV] END ..learning_rate=0.2, max_depth=10, n_estimators=120; total time=  16.1s\n",
      "[CV] END ..learning_rate=0.2, max_depth=10, n_estimators=120; total time=  16.9s\n",
      "[CV] END ..learning_rate=0.2, max_depth=12, n_estimators=100; total time=  18.2s\n",
      "[CV] END ..learning_rate=0.2, max_depth=12, n_estimators=100; total time=  16.1s\n",
      "[CV] END ..learning_rate=0.2, max_depth=12, n_estimators=100; total time=  16.9s\n",
      "[CV] END ..learning_rate=0.2, max_depth=12, n_estimators=100; total time=  14.6s\n",
      "[CV] END ..learning_rate=0.2, max_depth=12, n_estimators=100; total time=  13.3s\n",
      "[CV] END ..learning_rate=0.2, max_depth=12, n_estimators=110; total time=  18.0s\n",
      "[CV] END ..learning_rate=0.2, max_depth=12, n_estimators=110; total time=  18.3s\n",
      "[CV] END ..learning_rate=0.2, max_depth=12, n_estimators=110; total time=  16.2s\n",
      "[CV] END ..learning_rate=0.2, max_depth=12, n_estimators=110; total time=  20.2s\n",
      "[CV] END ..learning_rate=0.2, max_depth=12, n_estimators=110; total time=  19.8s\n",
      "[CV] END ..learning_rate=0.2, max_depth=12, n_estimators=120; total time=  21.0s\n",
      "[CV] END ..learning_rate=0.2, max_depth=12, n_estimators=120; total time=  21.9s\n",
      "[CV] END ..learning_rate=0.2, max_depth=12, n_estimators=120; total time=  20.7s\n",
      "[CV] END ..learning_rate=0.2, max_depth=12, n_estimators=120; total time=  20.3s\n",
      "[CV] END ..learning_rate=0.2, max_depth=12, n_estimators=120; total time=  16.2s\n",
      "[CV] END ..learning_rate=0.25, max_depth=8, n_estimators=100; total time=   7.9s\n",
      "[CV] END ..learning_rate=0.25, max_depth=8, n_estimators=100; total time=   8.5s\n",
      "[CV] END ..learning_rate=0.25, max_depth=8, n_estimators=100; total time=   8.0s\n",
      "[CV] END ..learning_rate=0.25, max_depth=8, n_estimators=100; total time=   8.1s\n",
      "[CV] END ..learning_rate=0.25, max_depth=8, n_estimators=100; total time=   7.9s\n",
      "[CV] END ..learning_rate=0.25, max_depth=8, n_estimators=110; total time=   8.8s\n",
      "[CV] END ..learning_rate=0.25, max_depth=8, n_estimators=110; total time=   8.8s\n",
      "[CV] END ..learning_rate=0.25, max_depth=8, n_estimators=110; total time=   8.8s\n",
      "[CV] END ..learning_rate=0.25, max_depth=8, n_estimators=110; total time=   8.9s\n",
      "[CV] END ..learning_rate=0.25, max_depth=8, n_estimators=110; total time=   8.7s\n",
      "[CV] END ..learning_rate=0.25, max_depth=8, n_estimators=120; total time=   9.8s\n",
      "[CV] END ..learning_rate=0.25, max_depth=8, n_estimators=120; total time=   9.8s\n",
      "[CV] END ..learning_rate=0.25, max_depth=8, n_estimators=120; total time=   9.7s\n",
      "[CV] END ..learning_rate=0.25, max_depth=8, n_estimators=120; total time=   9.7s\n",
      "[CV] END ..learning_rate=0.25, max_depth=8, n_estimators=120; total time=   9.6s\n",
      "[CV] END .learning_rate=0.25, max_depth=10, n_estimators=100; total time=  10.6s\n",
      "[CV] END .learning_rate=0.25, max_depth=10, n_estimators=100; total time=  10.5s\n",
      "[CV] END .learning_rate=0.25, max_depth=10, n_estimators=100; total time=  10.6s\n",
      "[CV] END .learning_rate=0.25, max_depth=10, n_estimators=100; total time=  11.0s\n",
      "[CV] END .learning_rate=0.25, max_depth=10, n_estimators=100; total time=  10.7s\n",
      "[CV] END .learning_rate=0.25, max_depth=10, n_estimators=110; total time=  11.8s\n",
      "[CV] END .learning_rate=0.25, max_depth=10, n_estimators=110; total time=  11.7s\n",
      "[CV] END .learning_rate=0.25, max_depth=10, n_estimators=110; total time=  12.2s\n",
      "[CV] END .learning_rate=0.25, max_depth=10, n_estimators=110; total time=  11.7s\n",
      "[CV] END .learning_rate=0.25, max_depth=10, n_estimators=110; total time=  11.6s\n",
      "[CV] END .learning_rate=0.25, max_depth=10, n_estimators=120; total time=  12.9s\n",
      "[CV] END .learning_rate=0.25, max_depth=10, n_estimators=120; total time=  12.6s\n",
      "[CV] END .learning_rate=0.25, max_depth=10, n_estimators=120; total time=  13.0s\n",
      "[CV] END .learning_rate=0.25, max_depth=10, n_estimators=120; total time=  12.8s\n",
      "[CV] END .learning_rate=0.25, max_depth=10, n_estimators=120; total time=  12.6s\n",
      "[CV] END .learning_rate=0.25, max_depth=12, n_estimators=100; total time=  13.3s\n",
      "[CV] END .learning_rate=0.25, max_depth=12, n_estimators=100; total time=  13.4s\n",
      "[CV] END .learning_rate=0.25, max_depth=12, n_estimators=100; total time=  13.4s\n",
      "[CV] END .learning_rate=0.25, max_depth=12, n_estimators=100; total time=  13.1s\n",
      "[CV] END .learning_rate=0.25, max_depth=12, n_estimators=100; total time=  13.2s\n",
      "[CV] END .learning_rate=0.25, max_depth=12, n_estimators=110; total time=  14.5s\n",
      "[CV] END .learning_rate=0.25, max_depth=12, n_estimators=110; total time=  14.5s\n",
      "[CV] END .learning_rate=0.25, max_depth=12, n_estimators=110; total time=  14.7s\n",
      "[CV] END .learning_rate=0.25, max_depth=12, n_estimators=110; total time=  14.6s\n",
      "[CV] END .learning_rate=0.25, max_depth=12, n_estimators=110; total time=  14.6s\n",
      "[CV] END .learning_rate=0.25, max_depth=12, n_estimators=120; total time=  15.8s\n",
      "[CV] END .learning_rate=0.25, max_depth=12, n_estimators=120; total time=  16.4s\n",
      "[CV] END .learning_rate=0.25, max_depth=12, n_estimators=120; total time=  15.9s\n",
      "[CV] END .learning_rate=0.25, max_depth=12, n_estimators=120; total time=  16.0s\n",
      "[CV] END .learning_rate=0.25, max_depth=12, n_estimators=120; total time=  15.7s\n",
      "[CV] END ..learning_rate=0.35, max_depth=8, n_estimators=100; total time=   7.9s\n",
      "[CV] END ..learning_rate=0.35, max_depth=8, n_estimators=100; total time=   7.7s\n",
      "[CV] END ..learning_rate=0.35, max_depth=8, n_estimators=100; total time=   7.9s\n",
      "[CV] END ..learning_rate=0.35, max_depth=8, n_estimators=100; total time=   7.9s\n",
      "[CV] END ..learning_rate=0.35, max_depth=8, n_estimators=100; total time=   7.8s\n",
      "[CV] END ..learning_rate=0.35, max_depth=8, n_estimators=110; total time=   8.6s\n",
      "[CV] END ..learning_rate=0.35, max_depth=8, n_estimators=110; total time=   8.5s\n",
      "[CV] END ..learning_rate=0.35, max_depth=8, n_estimators=110; total time=   8.5s\n",
      "[CV] END ..learning_rate=0.35, max_depth=8, n_estimators=110; total time=   8.6s\n",
      "[CV] END ..learning_rate=0.35, max_depth=8, n_estimators=110; total time=   8.4s\n",
      "[CV] END ..learning_rate=0.35, max_depth=8, n_estimators=120; total time=   9.3s\n"
     ]
    },
    {
     "name": "stdout",
     "output_type": "stream",
     "text": [
      "[CV] END ..learning_rate=0.35, max_depth=8, n_estimators=120; total time=   9.3s\n",
      "[CV] END ..learning_rate=0.35, max_depth=8, n_estimators=120; total time=   9.4s\n",
      "[CV] END ..learning_rate=0.35, max_depth=8, n_estimators=120; total time=   9.3s\n",
      "[CV] END ..learning_rate=0.35, max_depth=8, n_estimators=120; total time=   9.3s\n",
      "[CV] END .learning_rate=0.35, max_depth=10, n_estimators=100; total time=  10.3s\n",
      "[CV] END .learning_rate=0.35, max_depth=10, n_estimators=100; total time=  10.3s\n",
      "[CV] END .learning_rate=0.35, max_depth=10, n_estimators=100; total time=  10.3s\n",
      "[CV] END .learning_rate=0.35, max_depth=10, n_estimators=100; total time=  10.3s\n",
      "[CV] END .learning_rate=0.35, max_depth=10, n_estimators=100; total time=  10.3s\n",
      "[CV] END .learning_rate=0.35, max_depth=10, n_estimators=110; total time=  11.3s\n",
      "[CV] END .learning_rate=0.35, max_depth=10, n_estimators=110; total time=  11.4s\n",
      "[CV] END .learning_rate=0.35, max_depth=10, n_estimators=110; total time=  11.4s\n",
      "[CV] END .learning_rate=0.35, max_depth=10, n_estimators=110; total time=  11.4s\n",
      "[CV] END .learning_rate=0.35, max_depth=10, n_estimators=110; total time=  11.4s\n",
      "[CV] END .learning_rate=0.35, max_depth=10, n_estimators=120; total time=  12.4s\n",
      "[CV] END .learning_rate=0.35, max_depth=10, n_estimators=120; total time=  12.2s\n",
      "[CV] END .learning_rate=0.35, max_depth=10, n_estimators=120; total time=  12.4s\n",
      "[CV] END .learning_rate=0.35, max_depth=10, n_estimators=120; total time=  12.6s\n",
      "[CV] END .learning_rate=0.35, max_depth=10, n_estimators=120; total time=  15.1s\n",
      "[CV] END .learning_rate=0.35, max_depth=12, n_estimators=100; total time=  19.5s\n",
      "[CV] END .learning_rate=0.35, max_depth=12, n_estimators=100; total time=  14.7s\n",
      "[CV] END .learning_rate=0.35, max_depth=12, n_estimators=100; total time=  25.3s\n",
      "[CV] END .learning_rate=0.35, max_depth=12, n_estimators=100; total time=  27.7s\n",
      "[CV] END .learning_rate=0.35, max_depth=12, n_estimators=100; total time=  19.1s\n",
      "[CV] END .learning_rate=0.35, max_depth=12, n_estimators=110; total time=  19.6s\n",
      "[CV] END .learning_rate=0.35, max_depth=12, n_estimators=110; total time=  18.2s\n",
      "[CV] END .learning_rate=0.35, max_depth=12, n_estimators=110; total time=  19.3s\n",
      "[CV] END .learning_rate=0.35, max_depth=12, n_estimators=110; total time=  18.9s\n",
      "[CV] END .learning_rate=0.35, max_depth=12, n_estimators=110; total time=  17.3s\n",
      "[CV] END .learning_rate=0.35, max_depth=12, n_estimators=120; total time=  18.9s\n",
      "[CV] END .learning_rate=0.35, max_depth=12, n_estimators=120; total time=  18.3s\n",
      "[CV] END .learning_rate=0.35, max_depth=12, n_estimators=120; total time=  19.7s\n",
      "[CV] END .learning_rate=0.35, max_depth=12, n_estimators=120; total time=  28.2s\n",
      "[CV] END .learning_rate=0.35, max_depth=12, n_estimators=120; total time=  24.2s\n",
      "[CV] END ..learning_rate=0.45, max_depth=8, n_estimators=100; total time=  11.9s\n",
      "[CV] END ..learning_rate=0.45, max_depth=8, n_estimators=100; total time=  10.4s\n",
      "[CV] END ..learning_rate=0.45, max_depth=8, n_estimators=100; total time=  10.2s\n",
      "[CV] END ..learning_rate=0.45, max_depth=8, n_estimators=100; total time=   9.8s\n",
      "[CV] END ..learning_rate=0.45, max_depth=8, n_estimators=100; total time=  10.0s\n",
      "[CV] END ..learning_rate=0.45, max_depth=8, n_estimators=110; total time=  12.3s\n",
      "[CV] END ..learning_rate=0.45, max_depth=8, n_estimators=110; total time=  11.0s\n",
      "[CV] END ..learning_rate=0.45, max_depth=8, n_estimators=110; total time=  13.0s\n",
      "[CV] END ..learning_rate=0.45, max_depth=8, n_estimators=110; total time=  13.0s\n",
      "[CV] END ..learning_rate=0.45, max_depth=8, n_estimators=110; total time=  12.7s\n",
      "[CV] END ..learning_rate=0.45, max_depth=8, n_estimators=120; total time=  12.7s\n",
      "[CV] END ..learning_rate=0.45, max_depth=8, n_estimators=120; total time=  10.6s\n",
      "[CV] END ..learning_rate=0.45, max_depth=8, n_estimators=120; total time=  10.7s\n",
      "[CV] END ..learning_rate=0.45, max_depth=8, n_estimators=120; total time=  12.4s\n",
      "[CV] END ..learning_rate=0.45, max_depth=8, n_estimators=120; total time=  14.3s\n",
      "[CV] END .learning_rate=0.45, max_depth=10, n_estimators=100; total time=  18.2s\n",
      "[CV] END .learning_rate=0.45, max_depth=10, n_estimators=100; total time=  18.2s\n",
      "[CV] END .learning_rate=0.45, max_depth=10, n_estimators=100; total time=  15.9s\n",
      "[CV] END .learning_rate=0.45, max_depth=10, n_estimators=100; total time=  13.9s\n",
      "[CV] END .learning_rate=0.45, max_depth=10, n_estimators=100; total time=  12.9s\n",
      "[CV] END .learning_rate=0.45, max_depth=10, n_estimators=110; total time=  14.5s\n",
      "[CV] END .learning_rate=0.45, max_depth=10, n_estimators=110; total time=  14.2s\n",
      "[CV] END .learning_rate=0.45, max_depth=10, n_estimators=110; total time=  14.1s\n",
      "[CV] END .learning_rate=0.45, max_depth=10, n_estimators=110; total time=  16.1s\n",
      "[CV] END .learning_rate=0.45, max_depth=10, n_estimators=110; total time=  14.5s\n",
      "[CV] END .learning_rate=0.45, max_depth=10, n_estimators=120; total time=  15.5s\n",
      "[CV] END .learning_rate=0.45, max_depth=10, n_estimators=120; total time=  15.6s\n",
      "[CV] END .learning_rate=0.45, max_depth=10, n_estimators=120; total time=  15.3s\n",
      "[CV] END .learning_rate=0.45, max_depth=10, n_estimators=120; total time=  15.4s\n",
      "[CV] END .learning_rate=0.45, max_depth=10, n_estimators=120; total time=  15.6s\n",
      "[CV] END .learning_rate=0.45, max_depth=12, n_estimators=100; total time=  16.3s\n",
      "[CV] END .learning_rate=0.45, max_depth=12, n_estimators=100; total time=  16.2s\n",
      "[CV] END .learning_rate=0.45, max_depth=12, n_estimators=100; total time=  16.3s\n",
      "[CV] END .learning_rate=0.45, max_depth=12, n_estimators=100; total time=  16.4s\n",
      "[CV] END .learning_rate=0.45, max_depth=12, n_estimators=100; total time=  16.4s\n",
      "[CV] END .learning_rate=0.45, max_depth=12, n_estimators=110; total time=  18.1s\n",
      "[CV] END .learning_rate=0.45, max_depth=12, n_estimators=110; total time=  17.9s\n",
      "[CV] END .learning_rate=0.45, max_depth=12, n_estimators=110; total time=  19.6s\n",
      "[CV] END .learning_rate=0.45, max_depth=12, n_estimators=110; total time=  18.0s\n",
      "[CV] END .learning_rate=0.45, max_depth=12, n_estimators=110; total time=  18.0s\n",
      "[CV] END .learning_rate=0.45, max_depth=12, n_estimators=120; total time=  19.6s\n",
      "[CV] END .learning_rate=0.45, max_depth=12, n_estimators=120; total time=  19.3s\n",
      "[CV] END .learning_rate=0.45, max_depth=12, n_estimators=120; total time=  20.7s\n",
      "[CV] END .learning_rate=0.45, max_depth=12, n_estimators=120; total time=  20.8s\n",
      "[CV] END .learning_rate=0.45, max_depth=12, n_estimators=120; total time=  19.6s\n"
     ]
    },
    {
     "data": {
      "text/plain": [
       "GridSearchCV(cv=5,\n",
       "             estimator=XGBRegressor(base_score=None, booster=None,\n",
       "                                    callbacks=None, colsample_bylevel=None,\n",
       "                                    colsample_bynode=None,\n",
       "                                    colsample_bytree=None,\n",
       "                                    early_stopping_rounds=None,\n",
       "                                    enable_categorical=False, eval_metric=None,\n",
       "                                    feature_types=None, gamma=None, gpu_id=None,\n",
       "                                    grow_policy=None, importance_type=None,\n",
       "                                    interaction_constraints=None,\n",
       "                                    learning_rate=None, m...\n",
       "                                    max_cat_threshold=None,\n",
       "                                    max_cat_to_onehot=None, max_delta_step=None,\n",
       "                                    max_depth=None, max_leaves=None,\n",
       "                                    min_child_weight=None, missing=nan,\n",
       "                                    monotone_constraints=None, n_estimators=100,\n",
       "                                    n_jobs=None, num_parallel_tree=None,\n",
       "                                    predictor=None, random_state=None, ...),\n",
       "             param_grid={'learning_rate': [0.2, 0.25, 0.35, 0.45],\n",
       "                         'max_depth': [8, 10, 12],\n",
       "                         'n_estimators': [100, 110, 120]},\n",
       "             verbose=2)"
      ]
     },
     "execution_count": 53,
     "metadata": {},
     "output_type": "execute_result"
    }
   ],
   "source": [
    "model.fit(input_x, output_x)"
   ]
  },
  {
   "cell_type": "code",
   "execution_count": 54,
   "id": "ce1a7a02",
   "metadata": {},
   "outputs": [],
   "source": [
    "output_pred_x = model.predict(input_x)"
   ]
  },
  {
   "cell_type": "code",
   "execution_count": 55,
   "id": "b483d934",
   "metadata": {},
   "outputs": [
    {
     "data": {
      "text/plain": [
       "0.6978038934958275"
      ]
     },
     "execution_count": 55,
     "metadata": {},
     "output_type": "execute_result"
    }
   ],
   "source": [
    "from sklearn.metrics import r2_score\n",
    "r2_score(output_x, output_pred_x)"
   ]
  },
  {
   "cell_type": "code",
   "execution_count": 56,
   "id": "28260c4d",
   "metadata": {},
   "outputs": [],
   "source": [
    "output_pred_y = model.predict(input_y)"
   ]
  },
  {
   "cell_type": "code",
   "execution_count": 57,
   "id": "dddd3703",
   "metadata": {},
   "outputs": [
    {
     "data": {
      "text/plain": [
       "0.6720028869779229"
      ]
     },
     "execution_count": 57,
     "metadata": {},
     "output_type": "execute_result"
    }
   ],
   "source": [
    "r2_score(output_y, output_pred_y)"
   ]
  },
  {
   "cell_type": "code",
   "execution_count": 58,
   "id": "060be143",
   "metadata": {},
   "outputs": [
    {
     "data": {
      "text/plain": [
       "{'learning_rate': 0.2, 'max_depth': 8, 'n_estimators': 120}"
      ]
     },
     "execution_count": 58,
     "metadata": {},
     "output_type": "execute_result"
    }
   ],
   "source": [
    "model.best_params_"
   ]
  },
  {
   "cell_type": "code",
   "execution_count": 60,
   "id": "ec43d03b",
   "metadata": {},
   "outputs": [],
   "source": [
    "from sklearn.svm import SVR\n",
    "model = SVR(verbose=2)"
   ]
  },
  {
   "cell_type": "code",
   "execution_count": null,
   "id": "c3ee71d8",
   "metadata": {},
   "outputs": [
    {
     "name": "stdout",
     "output_type": "stream",
     "text": [
      "[LibSVM]"
     ]
    }
   ],
   "source": [
    "model.fit(input_x, output_x)"
   ]
  },
  {
   "cell_type": "code",
   "execution_count": null,
   "id": "863bb377",
   "metadata": {},
   "outputs": [],
   "source": []
  }
 ],
 "metadata": {
  "kernelspec": {
   "display_name": "Python 3 (ipykernel)",
   "language": "python",
   "name": "python3"
  },
  "language_info": {
   "codemirror_mode": {
    "name": "ipython",
    "version": 3
   },
   "file_extension": ".py",
   "mimetype": "text/x-python",
   "name": "python",
   "nbconvert_exporter": "python",
   "pygments_lexer": "ipython3",
   "version": "3.9.12"
  }
 },
 "nbformat": 4,
 "nbformat_minor": 5
}
